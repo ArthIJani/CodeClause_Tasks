{
  "nbformat": 4,
  "nbformat_minor": 0,
  "metadata": {
    "colab": {
      "provenance": []
    },
    "kernelspec": {
      "name": "python3",
      "display_name": "Python 3"
    },
    "language_info": {
      "name": "python"
    }
  },
  "cells": [
    {
      "cell_type": "code",
      "execution_count": 8,
      "metadata": {
        "colab": {
          "base_uri": "https://localhost:8080/"
        },
        "id": "DZaviZ76jXpf",
        "outputId": "8bef3650-5f61-4f33-c5aa-17824d7d49b8"
      },
      "outputs": [
        {
          "output_type": "stream",
          "name": "stdout",
          "text": [
            "Enter the desired length of the password: 12\n",
            "Enter the desired strength of the password (weak, medium, or strong): wek\n",
            "Invalid strength selection. Please try again.\n",
            "Enter the desired strength of the password (weak, medium, or strong): strong\n",
            "Generated Password: y'TA`77Akb4k\n"
          ]
        }
      ],
      "source": [
        "import random\n",
        "import string\n",
        "\n",
        "def generate_password(length, strength):\n",
        "    if strength == \"weak\":\n",
        "        characters = string.ascii_letters\n",
        "    elif strength == \"medium\":\n",
        "        characters = string.ascii_letters + string.digits\n",
        "    elif strength == \"strong\":\n",
        "        characters = string.ascii_letters + string.digits + string.punctuation\n",
        "    else:\n",
        "        print(\"Invalid strength selection.\")\n",
        "        return None\n",
        "\n",
        "    password = ''.join(random.choice(characters) for _ in range(length))\n",
        "\n",
        "    return password\n",
        "\n",
        "length = int(input(\"Enter the desired length of the password: \"))\n",
        "\n",
        "valid_strengths = [\"weak\", \"medium\", \"strong\"]\n",
        "strength = input(\"Enter the desired strength of the password (weak, medium, or strong): \")\n",
        "\n",
        "while strength not in valid_strengths:\n",
        "    print(\"Invalid strength selection. Please try again.\")\n",
        "    strength = input(\"Enter the desired strength of the password (weak, medium, or strong): \")\n",
        "\n",
        "password = generate_password(length, strength)\n",
        "\n",
        "if password:\n",
        "    print(\"Generated Password:\", password)\n",
        "\n"
      ]
    }
  ]
}